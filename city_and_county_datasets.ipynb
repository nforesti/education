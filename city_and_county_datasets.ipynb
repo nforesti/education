{
 "cells": [
  {
   "cell_type": "code",
   "execution_count": 135,
   "metadata": {},
   "outputs": [],
   "source": [
    "%matplotlib inline\n",
    "\n",
    "# Import libraries\n",
    "import numpy as np\n",
    "import pandas as pd\n",
    "import matplotlib.pyplot as plt\n",
    "import seaborn as sns\n",
    "import os\n",
    "import re"
   ]
  },
  {
   "cell_type": "markdown",
   "metadata": {},
   "source": [
    "# City Datasets"
   ]
  },
  {
   "cell_type": "code",
   "execution_count": null,
   "metadata": {},
   "outputs": [],
   "source": [
    "cities_dataset_path = './datasets/cities/'\n",
    "counties_dataset_path = './datasets/counties/'\n",
    "\n",
    "# create separate dictionaries for each category of colleges that the cities are home to\n",
    "top_cities = dict()\n",
    "mid_cities = dict()\n",
    "bot_cities = dict()\n",
    "other_cities = dict() # misc areas for further analysis\n",
    "\n",
    "# populate dicts based on filename indicators\n",
    "for c in os.listdir(cities_dataset_path):\n",
    "    # filenames truncated to city-state format for simplicity\n",
    "    truncated_file_name = '-'.join((c.split('-')[:2]))\n",
    "    if c.endswith(\"top-city.csv\"):\n",
    "        top_cities[truncated_file_name] = pd.read_csv(cities_dataset_path + c)\n",
    "    elif c.endswith(\"mid-city.csv\"):\n",
    "        mid_cities[truncated_file_name] = pd.read_csv(cities_dataset_path + c)\n",
    "    elif c.endswith(\"bot-city.csv\"):\n",
    "        bot_cities[truncated_file_name] = pd.read_csv(cities_dataset_path + c)\n",
    "    elif '-' in c:\n",
    "        other_cities[truncated_file_name] = pd.read_csv(cities_dataset_path + c)\n",
    "print(top_cities.keys())\n",
    "print(mid_cities.keys())\n",
    "print(bot_cities.keys())\n",
    "print(other_cities.keys())\n",
    "\n",
    "\n",
    "# similar process for counties\n",
    "top_counties = dict()\n",
    "mid_counties = dict()\n",
    "bot_counties = dict()\n",
    "other_counties = dict()\n",
    "\n",
    "for c in os.listdir(counties_dataset_path):\n",
    "    # filenames truncated to county-state format for simplicity\n",
    "    truncated_file_name = '-'.join((c.split('-')[:2]))\n",
    "    if c.endswith(\"top-county.csv\"):\n",
    "        top_counties[truncated_file_name] = pd.read_csv(counties_dataset_path + c)\n",
    "    elif c.endswith(\"mid-county.csv\"):\n",
    "        mid_counties[truncated_file_name] = pd.read_csv(counties_dataset_path + c)\n",
    "    elif c.endswith(\"bot-county.csv\"):\n",
    "        bot_counties[truncated_file_name] = pd.read_csv(counties_dataset_path + c)\n",
    "    elif '-' in c:\n",
    "        other_counties[truncated_file_name] = pd.read_csv(counties_dataset_path + c)\n",
    "\n",
    "# testing\n",
    "print('============== TOP TEST ===============')\n",
    "print(top_cities['stanford-ca'])\n",
    "print('\\n============== MID TEST ===============')\n",
    "print(mid_cities['whitewater-wi'])\n",
    "print('\\n============== BOT TEST ===============')\n",
    "print(bot_counties['westmoreland-pa'])"
   ]
  },
  {
   "cell_type": "markdown",
   "metadata": {},
   "source": [
    "# Data Cleaning"
   ]
  },
  {
   "cell_type": "markdown",
   "metadata": {},
   "source": [
    "The first part of the data we wanted to clean was simply the name of the column that holds all the statistic values. The name was originally just the name of the county/city. We believe that changing it to \"fact_value\" (given that the column with the name of the statistic is \"fact\", would be more clear."
   ]
  },
  {
   "cell_type": "code",
   "execution_count": null,
   "metadata": {},
   "outputs": [],
   "source": [
    "all_csv = [top_cities, mid_cities, bot_cities, other_cities, top_counties, mid_counties, bot_counties, other_counties]\n",
    "for d in all_csv:\n",
    "    for k, v in d.items():\n",
    "        v.rename(index = str, columns = {v.columns[2] : 'Fact Value'}, inplace = True)\n",
    "\n",
    "assert top_cities['cambridge-ma'].columns[2] == 'Fact Value'"
   ]
  },
  {
   "cell_type": "markdown",
   "metadata": {},
   "source": [
    "Currently, the column that should hold the fact value is of type object. We want this to be converted to ints so that we do not need to constantly type cast.\n",
    "\n",
    "We don't need all these rows. Only interested in demographic data."
   ]
  },
  {
   "cell_type": "code",
   "execution_count": null,
   "metadata": {},
   "outputs": [],
   "source": [
    "invalid_values = ['X', 'NA', 'D', '-', 'FN', 'F', 'S', 'Z', 'NaN']\n",
    "for d in all_csv:\n",
    "    for k, v in d.items():\n",
    "        for i, r in v.iterrows():\n",
    "            if r['Fact Value'] in invalid_values:\n",
    "                v.drop(i, inplace = True)\n",
    "print(top_cities['stanford-ca'])"
   ]
  },
  {
   "cell_type": "code",
   "execution_count": null,
   "metadata": {},
   "outputs": [],
   "source": [
    "print('Column types before cleaning:')\n",
    "print(top_cities['stanford-ca'].dtypes)\n",
    "for d in all_csv:\n",
    "    for k, v in d.items():\n",
    "        v.loc[:, 'Fact Value'] = v.loc[:, 'Fact Value'].str.strip('%\"$')\n",
    "        v.loc[:, 'Fact Value'] = v.loc[:, 'Fact Value'].str.replace(',', '')   \n",
    "        v.loc[:, 'Fact Value'] = v.loc[:, 'Fact Value'].astype('float64')\n",
    "print('\\nColumn types after cleaning:')\n",
    "print(top_cities['stanford-ca'].dtypes)"
   ]
  },
  {
   "cell_type": "markdown",
   "metadata": {},
   "source": [
    "As seen in the above output, there are a couple of entirely or largely unneeded columns in the data where all the values are either NaN or irrelevant. \n",
    "\n",
    "We will be dropping or modifying the following columns to clean the data:\n",
    "\n",
    "Fact Note:\n",
    "\n",
    "This indicates\n",
    "(a) Includes persons reporting only one race\n",
    "(b) Hispanics may be of any race, so also are included in applicable race categories\n",
    "(c) Economic Census - Puerto Rico data are not comparable to U.S. Economic Census Data.\n",
    "\n",
    "As none of these factors influence the demographic data of the areas we are analyzing, we can remove this data.\n",
    "\n",
    "Value Note: \n",
    "\n",
    "This indicates \n",
    "(-) Either no or too few sample observations were available to compute an estimate, or a ratio of medians cannot be calculated because one or both of the median estimates falls in the lowest or upper interval of an open ended distribution.\t\t\n",
    "(D)\tSuppressed to avoid disclosure of confidential information\t\t\n",
    "(F)\tFewer than 25 firms\t\t\n",
    "(FN) Footnote on this item in place of data\t\t\n",
    "(NA) Not available\t\t\n",
    "(S)\tSuppressed; does not meet publication standards\t\t\n",
    "(X)\tNot applicable\t\t\n",
    "(Z)\tValue greater than zero but less than half unit of measure shown\n",
    "\n",
    "Value notes are indicated in the fact value column so we do not need the value note column at all."
   ]
  },
  {
   "cell_type": "markdown",
   "metadata": {},
   "source": []
  }
 ],
 "metadata": {
  "kernelspec": {
   "display_name": "Python 3",
   "language": "python",
   "name": "python3"
  },
  "language_info": {
   "codemirror_mode": {
    "name": "ipython",
    "version": 3
   },
   "file_extension": ".py",
   "mimetype": "text/x-python",
   "name": "python",
   "nbconvert_exporter": "python",
   "pygments_lexer": "ipython3",
   "version": "3.7.3"
  }
 },
 "nbformat": 4,
 "nbformat_minor": 2
}
