{
 "cells": [
  {
   "cell_type": "code",
   "execution_count": 1,
   "metadata": {},
   "outputs": [],
   "source": [
    "%matplotlib inline\n",
    "\n",
    "# Import libraries\n",
    "import numpy as np\n",
    "import pandas as pd\n",
    "import matplotlib.pyplot as plt\n",
    "import seaborn as sns"
   ]
  },
  {
   "cell_type": "code",
   "execution_count": 2,
   "metadata": {},
   "outputs": [],
   "source": [
    "# Configure libraries\n",
    "# The seaborn library makes plots look nicer\n",
    "sns.set()\n",
    "sns.set_context('talk')\n",
    "\n",
    "# Round decimals when displaying DataFrames\n",
    "pd.set_option('precision', 2)"
   ]
  },
  {
   "cell_type": "code",
   "execution_count": 3,
   "metadata": {},
   "outputs": [],
   "source": [
    "import requests\n",
    "import json\n"
   ]
  },
  {
   "cell_type": "code",
   "execution_count": 4,
   "metadata": {},
   "outputs": [],
   "source": [
    "# recursivejson.py\n",
    "# https://hackersandslackers.com/extract-data-from-complex-json-python/\n",
    "\n",
    "def extract_values(obj, key):\n",
    "    \"\"\"Pull all values of specified key from nested JSON.\"\"\"\n",
    "    arr = []\n",
    "\n",
    "    def extract(obj, arr, key):\n",
    "        \"\"\"Recursively search for values of key in JSON tree.\"\"\"\n",
    "        if isinstance(obj, dict):\n",
    "            for k, v in obj.items():\n",
    "                if isinstance(v, (dict, list)):\n",
    "                    extract(v, arr, key)\n",
    "                elif k == key:\n",
    "                    arr.append(v)\n",
    "        elif isinstance(obj, list):\n",
    "            for item in obj:\n",
    "                extract(item, arr, key)\n",
    "        return arr\n",
    "\n",
    "    results = extract(obj, arr, key)\n",
    "    return results\n"
   ]
  },
  {
   "cell_type": "code",
   "execution_count": 6,
   "metadata": {},
   "outputs": [],
   "source": [
    "import requests\n",
    "from bs4 import BeautifulSoup\n",
    "import re\n",
    "import csv\n",
    "\n",
    "categories=['African American', 'Asian', 'Hispanic', 'International', 'Multiracial', 'Native American','Pacific Islander', 'Unknown', 'White']\n",
    "\n",
    "outfile = open('niche.csv','w')\n",
    "writer=csv.writer(outfile)\n",
    "writer.writerow(['ranking', 'name', 'African American', 'Asian', 'Hispanic', 'International', 'Multiracial', 'Native American','Pacific Islander', 'Unknown', 'White'])\n",
    "\n",
    "\n",
    "for x in range(1, 37):\n",
    "    r = requests.get('https://www.niche.com/api/renaissance/results/?type=private&type=public&listURL=best-colleges&page='+str(x)+'&searchType=college')\n",
    "    r = r.text\n",
    "    data = json.loads(r)\n",
    "    #print(json.dumps(data, indent=4))\n",
    "    #print(json.dumps(data[\"entities\"], indent=4))\n",
    "    data = data[\"entities\"]\n",
    "\n",
    "    names = extract_values(data, 'name')\n",
    "    urls = extract_values(data, 'url')\n",
    "    for idx, url in enumerate(urls):\n",
    "        if \"https\" in url:\n",
    "            del urls[idx]\n",
    "    \n",
    "    rankings =  extract_values(data, 'ordinal')\n",
    "    collegeRankings = dict(zip(names, zip(rankings, urls)))\n",
    "    #collegeRankings\n",
    "    \n",
    "    \n",
    "\n",
    "    for name,value in collegeRankings.items():\n",
    "        if value[0] < 881:\n",
    "            ranking = value[0]\n",
    "            link = value[1]\n",
    "            temparray = []\n",
    "            temparray.append(ranking)\n",
    "            temparray.append(link)\n",
    "            r = requests.get(\"https://www.niche.com/colleges/\"+link+\"/students/\")\n",
    "            soup = BeautifulSoup(r.text)\n",
    "            for idx, percentage in enumerate(soup.findAll('div', attrs={'class': 'fact__table__row__value'})):\n",
    "                if idx > 13:\n",
    "                    temparray.append(percentage.text)\n",
    "            writer.writerow(temparray)\n",
    "\n"
   ]
  },
  {
   "cell_type": "code",
   "execution_count": null,
   "metadata": {},
   "outputs": [],
   "source": [
    "'''\n",
    "import requests\n",
    "from bs4 import BeautifulSoup\n",
    "import re\n",
    "import csv\n",
    "\n",
    "categories=['African American', 'Asian', 'Hispanic', 'International', 'Multiracial', 'Native American','Pacific Islander', 'Unknown', 'White']\n",
    "datadict = {}\n",
    "\n",
    "\n",
    "\n",
    "for name,value in collegeRankings.items():\n",
    "    link = value[1]\n",
    "    temparray = []\n",
    "    r = requests.get(\"https://www.niche.com/colleges/\"+link+\"/students/\")\n",
    "    soup = BeautifulSoup(r.text)\n",
    "    for idx, percentage in enumerate(soup.findAll('div', attrs={'class': 'fact__table__row__value'})):\n",
    "        if idx > 13:\n",
    "            temparray.append(percentage.text)\n",
    "    datadict[name] = temparray\n",
    "\n",
    "df = pd.DataFrame.from_dict(datadict, orient='index', columns=categories)\n",
    "df\n",
    "'''"
   ]
  }
 ],
 "metadata": {
  "kernelspec": {
   "display_name": "Python 3",
   "language": "python",
   "name": "python3"
  },
  "language_info": {
   "codemirror_mode": {
    "name": "ipython",
    "version": 3
   },
   "file_extension": ".py",
   "mimetype": "text/x-python",
   "name": "python",
   "nbconvert_exporter": "python",
   "pygments_lexer": "ipython3",
   "version": "3.7.3"
  }
 },
 "nbformat": 4,
 "nbformat_minor": 2
}
